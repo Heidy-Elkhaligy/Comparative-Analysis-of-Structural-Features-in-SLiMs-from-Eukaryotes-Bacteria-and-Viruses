{
 "cells": [
  {
   "cell_type": "markdown",
   "metadata": {},
   "source": [
    "<h1> <div style=\"text-align:center\"> This Jupyter notebook will contain all the steps that are used to generate the data and plot the graphs included in the manuscript </div> </h1>\n",
    "\n",
    "\n",
    "\\****Please note that you may need to do some steps and generate some data outside this jupyter notebook***\n",
    "\n",
    "In the same folder as the jupyter notebook there should be \n",
    "1. scripts folder containing all the scripts\n",
    "2. elm_instances.tsv downloaded from the ELM database. (http://elm.eu.org/index.html)\n",
    "3. elm_instances.fasta downloaded from the ELM database.\n",
    "\n",
    "## 1. The first step is to extract the taxonomy of the species\n",
    "\n",
    "The taxonomic IDs of the organisms were extrated using the \n",
    "https://www.ncbi.nlm.nih.gov/Taxonomy/TaxIdentifier/tax_identifier.cgi\n"
   ]
  },
  {
   "cell_type": "code",
   "execution_count": 1,
   "metadata": {},
   "outputs": [
    {
     "data": {
      "text/html": [
       "<div>\n",
       "<style scoped>\n",
       "    .dataframe tbody tr th:only-of-type {\n",
       "        vertical-align: middle;\n",
       "    }\n",
       "\n",
       "    .dataframe tbody tr th {\n",
       "        vertical-align: top;\n",
       "    }\n",
       "\n",
       "    .dataframe thead th {\n",
       "        text-align: right;\n",
       "    }\n",
       "</style>\n",
       "<table border=\"1\" class=\"dataframe\">\n",
       "  <thead>\n",
       "    <tr style=\"text-align: right;\">\n",
       "      <th></th>\n",
       "      <th>Accession</th>\n",
       "      <th>ELMType</th>\n",
       "      <th>ELMIdentifier</th>\n",
       "      <th>ProteinName</th>\n",
       "      <th>Primary_Acc</th>\n",
       "      <th>Accessions</th>\n",
       "      <th>Start</th>\n",
       "      <th>End</th>\n",
       "      <th>References</th>\n",
       "      <th>Methods</th>\n",
       "      <th>InstanceLogic</th>\n",
       "      <th>PDB</th>\n",
       "      <th>Organism</th>\n",
       "    </tr>\n",
       "  </thead>\n",
       "  <tbody>\n",
       "    <tr>\n",
       "      <th>0</th>\n",
       "      <td>ELMI003774</td>\n",
       "      <td>CLV</td>\n",
       "      <td>CLV_C14_Caspase3-7</td>\n",
       "      <td>A0A0H3NIK3_SALTS</td>\n",
       "      <td>A0A0H3NIK3</td>\n",
       "      <td>A0A0H3NIK3</td>\n",
       "      <td>483</td>\n",
       "      <td>487</td>\n",
       "      <td>20947770</td>\n",
       "      <td>enzymatic reaction; mutation analysis; proteas...</td>\n",
       "      <td>true positive</td>\n",
       "      <td>NaN</td>\n",
       "      <td>Salmonella enterica subsp. enterica serovar Ty...</td>\n",
       "    </tr>\n",
       "    <tr>\n",
       "      <th>1</th>\n",
       "      <td>ELMI002256</td>\n",
       "      <td>CLV</td>\n",
       "      <td>CLV_C14_Caspase3-7</td>\n",
       "      <td>ATN1_HUMAN</td>\n",
       "      <td>P54259</td>\n",
       "      <td>P54259 Q99495 Q99621 Q9UEK7</td>\n",
       "      <td>103</td>\n",
       "      <td>107</td>\n",
       "      <td>10085113 9535906</td>\n",
       "      <td>cleavage reaction; mutation analysis; western ...</td>\n",
       "      <td>true positive</td>\n",
       "      <td>NaN</td>\n",
       "      <td>Homo sapiens</td>\n",
       "    </tr>\n",
       "    <tr>\n",
       "      <th>2</th>\n",
       "      <td>ELMI001933</td>\n",
       "      <td>CLV</td>\n",
       "      <td>CLV_C14_Caspase3-7</td>\n",
       "      <td>ATN1_HUMAN</td>\n",
       "      <td>P54259</td>\n",
       "      <td>P54259 Q99495 Q99621 Q9UEK7</td>\n",
       "      <td>106</td>\n",
       "      <td>110</td>\n",
       "      <td>10085113 9535906</td>\n",
       "      <td>cleavage reaction; mutation analysis; western ...</td>\n",
       "      <td>true positive</td>\n",
       "      <td>NaN</td>\n",
       "      <td>Homo sapiens</td>\n",
       "    </tr>\n",
       "    <tr>\n",
       "      <th>3</th>\n",
       "      <td>ELMI001914</td>\n",
       "      <td>CLV</td>\n",
       "      <td>CLV_C14_Caspase3-7</td>\n",
       "      <td>BCAR1_RAT</td>\n",
       "      <td>Q63767</td>\n",
       "      <td>Q63767 Q63766</td>\n",
       "      <td>413</td>\n",
       "      <td>417</td>\n",
       "      <td>10712510</td>\n",
       "      <td>classical fluorescence spectroscopy; cleavage ...</td>\n",
       "      <td>true positive</td>\n",
       "      <td>NaN</td>\n",
       "      <td>Rattus norvegicus</td>\n",
       "    </tr>\n",
       "    <tr>\n",
       "      <th>4</th>\n",
       "      <td>ELMI001915</td>\n",
       "      <td>CLV</td>\n",
       "      <td>CLV_C14_Caspase3-7</td>\n",
       "      <td>BCAR1_RAT</td>\n",
       "      <td>Q63767</td>\n",
       "      <td>Q63767 Q63766</td>\n",
       "      <td>745</td>\n",
       "      <td>749</td>\n",
       "      <td>10712510</td>\n",
       "      <td>classical fluorescence spectroscopy; cleavage ...</td>\n",
       "      <td>true positive</td>\n",
       "      <td>NaN</td>\n",
       "      <td>Rattus norvegicus</td>\n",
       "    </tr>\n",
       "  </tbody>\n",
       "</table>\n",
       "</div>"
      ],
      "text/plain": [
       "    Accession ELMType       ELMIdentifier       ProteinName Primary_Acc  \\\n",
       "0  ELMI003774     CLV  CLV_C14_Caspase3-7  A0A0H3NIK3_SALTS  A0A0H3NIK3   \n",
       "1  ELMI002256     CLV  CLV_C14_Caspase3-7        ATN1_HUMAN      P54259   \n",
       "2  ELMI001933     CLV  CLV_C14_Caspase3-7        ATN1_HUMAN      P54259   \n",
       "3  ELMI001914     CLV  CLV_C14_Caspase3-7         BCAR1_RAT      Q63767   \n",
       "4  ELMI001915     CLV  CLV_C14_Caspase3-7         BCAR1_RAT      Q63767   \n",
       "\n",
       "                    Accessions  Start  End        References  \\\n",
       "0                   A0A0H3NIK3    483  487          20947770   \n",
       "1  P54259 Q99495 Q99621 Q9UEK7    103  107  10085113 9535906   \n",
       "2  P54259 Q99495 Q99621 Q9UEK7    106  110  10085113 9535906   \n",
       "3                Q63767 Q63766    413  417          10712510   \n",
       "4                Q63767 Q63766    745  749          10712510   \n",
       "\n",
       "                                             Methods  InstanceLogic  PDB  \\\n",
       "0  enzymatic reaction; mutation analysis; proteas...  true positive  NaN   \n",
       "1  cleavage reaction; mutation analysis; western ...  true positive  NaN   \n",
       "2  cleavage reaction; mutation analysis; western ...  true positive  NaN   \n",
       "3  classical fluorescence spectroscopy; cleavage ...  true positive  NaN   \n",
       "4  classical fluorescence spectroscopy; cleavage ...  true positive  NaN   \n",
       "\n",
       "                                            Organism  \n",
       "0  Salmonella enterica subsp. enterica serovar Ty...  \n",
       "1                                       Homo sapiens  \n",
       "2                                       Homo sapiens  \n",
       "3                                  Rattus norvegicus  \n",
       "4                                  Rattus norvegicus  "
      ]
     },
     "execution_count": 1,
     "metadata": {},
     "output_type": "execute_result"
    }
   ],
   "source": [
    "import pandas as pd \n",
    "\n",
    "# Load the elm_instances.tsv file\n",
    "ELM_instances = pd.read_csv('elm_instances.tsv', delimiter='\\t', quotechar = '\"', skiprows= 5, engine='python')\n",
    "ELM_instances.head()\n"
   ]
  },
  {
   "cell_type": "code",
   "execution_count": 5,
   "metadata": {},
   "outputs": [
    {
     "name": "stdout",
     "output_type": "stream",
     "text": [
      "mkdir: cannot create directory ‘temp_files’: File exists\r\n"
     ]
    }
   ],
   "source": [
    "#extract the name of the species from the organism column and drop duplicates\n",
    "\n",
    "species_names=ELM_instances['Organism'].drop_duplicates() \n",
    "#print(species_names.values.tolist()) # will print all the species names as a list\n",
    "#print(len(species_names)) #check the number of species\n",
    "\n",
    "#add elm_species text file to the temporary files folder\n",
    "species_names.to_csv('temp_files/elm_species.txt', encoding='utf-8', index=False, header= False) \n"
   ]
  },
  {
   "cell_type": "markdown",
   "metadata": {},
   "source": [
    "## 2. Upload the generated text file to  https://www.ncbi.nlm.nih.gov/Taxonomy/TaxIdentifier/tax_identifier.cgi \n",
    "\n",
    "###  *Select the full taxid lineage and then click save in file. Move the downloaded tax_report.txt file to the temp_files folder*\n",
    "\n",
    "## 3. Extract only the name of the species and its full taxonomy and save it to a csv file\n"
   ]
  },
  {
   "cell_type": "code",
   "execution_count": 10,
   "metadata": {},
   "outputs": [],
   "source": [
    "import pandas as pd \n",
    "\n",
    "taxa_report= pd.read_csv('temp_files/tax_report.txt', sep='[|\\t]', quotechar = '\"', engine='python') \n",
    "taxa_report=taxa_report.filter(['name', 'lineage'], axis=1)\n",
    "#print(tax_report)\n",
    "taxa_report.to_csv(\"temp_files/org_full_taxa.csv\",encoding='utf-8', index=False, header= True ) "
   ]
  },
  {
   "cell_type": "markdown",
   "metadata": {},
   "source": [
    "## 4. Append the taxonomic classification (Eukaryotes, Bacteria, Viruses, etc.) to the elm_instances.tsv downloaded from the ELM database.\n",
    "\n",
    "We need to use the append_taxa_to_elm.py in the scripts folder. This script takes two files org_full_tax.csv in the temp_files and the elm_instances.tsv file found in the main folder.\n",
    "The output file will be elm_instances_with_taxa.csv "
   ]
  },
  {
   "cell_type": "code",
   "execution_count": 11,
   "metadata": {},
   "outputs": [],
   "source": [
    "%%bash\n",
    "\n",
    "python3 scripts/append_taxa_to_elm.py elm_instances.tsv temp_files/org_full_taxa.csv "
   ]
  },
  {
   "cell_type": "markdown",
   "metadata": {},
   "source": [
    "## 5. Filter the true positive instances and generate 3 csv files (one for each taxonomic group: Eukaryotes, Bacteria, and Viruses)"
   ]
  },
  {
   "cell_type": "code",
   "execution_count": 12,
   "metadata": {},
   "outputs": [],
   "source": [
    "import pandas as pd\n",
    "all_elms=pd.read_csv('elm_instances_with_taxa.csv')\n",
    "\n",
    "#Keep the true positive instances in each taxonomic group and split the data into three files\n",
    "eukaryotes=all_elms[(all_elms['Taxonomic_group'].str.contains('Eukaryote')) & (all_elms['InstanceLogic'] =='true positive')]\n",
    "bacteria=all_elms[(all_elms['Taxonomic_group'].str.contains('Bacteria')) & (all_elms['InstanceLogic'] =='true positive')]\n",
    "viruses=all_elms[(all_elms['Taxonomic_group'].str.contains('Viruses')) & (all_elms['InstanceLogic'] =='true positive')]\n",
    "\n",
    "eukaryotes.head()\n",
    "bacteria.head()\n",
    "viruses.head()\n",
    "\n",
    "eukaryotes.to_csv(\"eukaryotes/eukaryotes_TP.csv\",encoding='utf-8', index=False, header= True )\n",
    "bacteria.to_csv(\"bacteria/bacteria_TP.csv\",encoding='utf-8', index=False, header= True )\n",
    "viruses.to_csv(\"viruses/viruses_TP.csv\",encoding='utf-8', index=False, header= True )\n"
   ]
  }
 ],
 "metadata": {
  "kernelspec": {
   "display_name": "Python 3",
   "language": "python",
   "name": "python3"
  },
  "language_info": {
   "codemirror_mode": {
    "name": "ipython",
    "version": 3
   },
   "file_extension": ".py",
   "mimetype": "text/x-python",
   "name": "python",
   "nbconvert_exporter": "python",
   "pygments_lexer": "ipython3",
   "version": "3.8.5"
  }
 },
 "nbformat": 4,
 "nbformat_minor": 4
}
